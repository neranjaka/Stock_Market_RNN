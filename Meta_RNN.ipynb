{
 "cells": [
  {
   "cell_type": "code",
   "execution_count": 2,
   "metadata": {
    "executionInfo": {
     "elapsed": 1735,
     "status": "ok",
     "timestamp": 1677185078906,
     "user": {
      "displayName": "Diyunugalage Jayarathne",
      "userId": "15438553946356312140"
     },
     "user_tz": 300
    },
    "id": "SqBNR9mmW5Zj"
   },
   "outputs": [],
   "source": [
    "#importing libraries\n",
    "\n",
    "import pandas as pd\n",
    "import numpy as np"
   ]
  },
  {
   "cell_type": "code",
   "execution_count": 3,
   "metadata": {
    "executionInfo": {
     "elapsed": 156,
     "status": "ok",
     "timestamp": 1677185079981,
     "user": {
      "displayName": "Diyunugalage Jayarathne",
      "userId": "15438553946356312140"
     },
     "user_tz": 300
    },
    "id": "GviEaW0QXwhM"
   },
   "outputs": [],
   "source": [
    "#importing dataset\n",
    "\n",
    "meta_complete_data = pd.read_csv('META.csv')"
   ]
  },
  {
   "cell_type": "code",
   "execution_count": 4,
   "metadata": {
    "colab": {
     "base_uri": "https://localhost:8080/",
     "height": 206
    },
    "executionInfo": {
     "elapsed": 189,
     "status": "ok",
     "timestamp": 1677185081013,
     "user": {
      "displayName": "Diyunugalage Jayarathne",
      "userId": "15438553946356312140"
     },
     "user_tz": 300
    },
    "id": "kL3r7ox1Xy2M",
    "outputId": "4a856049-2db9-4e71-e05d-962fafbbdbad"
   },
   "outputs": [
    {
     "data": {
      "text/html": [
       "<div>\n",
       "<style scoped>\n",
       "    .dataframe tbody tr th:only-of-type {\n",
       "        vertical-align: middle;\n",
       "    }\n",
       "\n",
       "    .dataframe tbody tr th {\n",
       "        vertical-align: top;\n",
       "    }\n",
       "\n",
       "    .dataframe thead th {\n",
       "        text-align: right;\n",
       "    }\n",
       "</style>\n",
       "<table border=\"1\" class=\"dataframe\">\n",
       "  <thead>\n",
       "    <tr style=\"text-align: right;\">\n",
       "      <th></th>\n",
       "      <th>Date</th>\n",
       "      <th>Open</th>\n",
       "      <th>High</th>\n",
       "      <th>Low</th>\n",
       "      <th>Close</th>\n",
       "      <th>Adj Close</th>\n",
       "      <th>Volume</th>\n",
       "    </tr>\n",
       "  </thead>\n",
       "  <tbody>\n",
       "    <tr>\n",
       "      <th>0</th>\n",
       "      <td>2015-01-02</td>\n",
       "      <td>78.580002</td>\n",
       "      <td>78.930000</td>\n",
       "      <td>77.699997</td>\n",
       "      <td>78.449997</td>\n",
       "      <td>78.449997</td>\n",
       "      <td>18177500</td>\n",
       "    </tr>\n",
       "    <tr>\n",
       "      <th>1</th>\n",
       "      <td>2015-01-05</td>\n",
       "      <td>77.980003</td>\n",
       "      <td>79.250000</td>\n",
       "      <td>76.860001</td>\n",
       "      <td>77.190002</td>\n",
       "      <td>77.190002</td>\n",
       "      <td>26452200</td>\n",
       "    </tr>\n",
       "    <tr>\n",
       "      <th>2</th>\n",
       "      <td>2015-01-06</td>\n",
       "      <td>77.230003</td>\n",
       "      <td>77.589996</td>\n",
       "      <td>75.360001</td>\n",
       "      <td>76.150002</td>\n",
       "      <td>76.150002</td>\n",
       "      <td>27399300</td>\n",
       "    </tr>\n",
       "    <tr>\n",
       "      <th>3</th>\n",
       "      <td>2015-01-07</td>\n",
       "      <td>76.760002</td>\n",
       "      <td>77.360001</td>\n",
       "      <td>75.820000</td>\n",
       "      <td>76.150002</td>\n",
       "      <td>76.150002</td>\n",
       "      <td>22045300</td>\n",
       "    </tr>\n",
       "    <tr>\n",
       "      <th>4</th>\n",
       "      <td>2015-01-08</td>\n",
       "      <td>76.739998</td>\n",
       "      <td>78.230003</td>\n",
       "      <td>76.080002</td>\n",
       "      <td>78.180000</td>\n",
       "      <td>78.180000</td>\n",
       "      <td>23961000</td>\n",
       "    </tr>\n",
       "  </tbody>\n",
       "</table>\n",
       "</div>"
      ],
      "text/plain": [
       "         Date       Open       High        Low      Close  Adj Close    Volume\n",
       "0  2015-01-02  78.580002  78.930000  77.699997  78.449997  78.449997  18177500\n",
       "1  2015-01-05  77.980003  79.250000  76.860001  77.190002  77.190002  26452200\n",
       "2  2015-01-06  77.230003  77.589996  75.360001  76.150002  76.150002  27399300\n",
       "3  2015-01-07  76.760002  77.360001  75.820000  76.150002  76.150002  22045300\n",
       "4  2015-01-08  76.739998  78.230003  76.080002  78.180000  78.180000  23961000"
      ]
     },
     "execution_count": 4,
     "metadata": {},
     "output_type": "execute_result"
    }
   ],
   "source": [
    "meta_complete_data.head()"
   ]
  },
  {
   "cell_type": "code",
   "execution_count": 5,
   "metadata": {
    "executionInfo": {
     "elapsed": 132,
     "status": "ok",
     "timestamp": 1677185084170,
     "user": {
      "displayName": "Diyunugalage Jayarathne",
      "userId": "15438553946356312140"
     },
     "user_tz": 300
    },
    "id": "ii7vwHC-X095"
   },
   "outputs": [],
   "source": [
    "meta_training_processed = meta_complete_data[['Open']].values"
   ]
  },
  {
   "cell_type": "code",
   "execution_count": 7,
   "metadata": {
    "executionInfo": {
     "elapsed": 742,
     "status": "ok",
     "timestamp": 1677185085580,
     "user": {
      "displayName": "Diyunugalage Jayarathne",
      "userId": "15438553946356312140"
     },
     "user_tz": 300
    },
    "id": "Cs30MuIlX3t3"
   },
   "outputs": [],
   "source": [
    "#scaling features\n",
    "\n",
    "from sklearn.preprocessing import MinMaxScaler\n",
    "scaler = MinMaxScaler(feature_range = (0,1))\n",
    "\n",
    "meta_training_scaled = scaler.fit_transform(meta_training_processed)"
   ]
  },
  {
   "cell_type": "code",
   "execution_count": 8,
   "metadata": {
    "colab": {
     "base_uri": "https://localhost:8080/"
    },
    "executionInfo": {
     "elapsed": 152,
     "status": "ok",
     "timestamp": 1677185086479,
     "user": {
      "displayName": "Diyunugalage Jayarathne",
      "userId": "15438553946356312140"
     },
     "user_tz": 300
    },
    "id": "U1Z8UIa6X7Ox",
    "outputId": "12cf499e-fbb5-436f-e7fc-3bf2a984c1a2"
   },
   "outputs": [
    {
     "data": {
      "text/plain": [
       "1257"
      ]
     },
     "execution_count": 8,
     "metadata": {},
     "output_type": "execute_result"
    }
   ],
   "source": [
    "len(meta_training_scaled)"
   ]
  },
  {
   "cell_type": "code",
   "execution_count": 9,
   "metadata": {
    "executionInfo": {
     "elapsed": 126,
     "status": "ok",
     "timestamp": 1677185087437,
     "user": {
      "displayName": "Diyunugalage Jayarathne",
      "userId": "15438553946356312140"
     },
     "user_tz": 300
    },
    "id": "kjbF5tXzX9jW"
   },
   "outputs": [],
   "source": [
    "#training features contained data of last 60 days\n",
    "#training labels contain data of the 1st day\n",
    "\n",
    "meta_training_features = []\n",
    "meta_training_labels = []\n",
    "\n",
    "for i in range(60, len(meta_training_scaled)):\n",
    "    meta_training_features.append(meta_training_scaled[i - 60:i,0])\n",
    "    meta_training_labels.append(meta_training_scaled[i,0])"
   ]
  },
  {
   "cell_type": "code",
   "execution_count": 10,
   "metadata": {
    "executionInfo": {
     "elapsed": 120,
     "status": "ok",
     "timestamp": 1677185089759,
     "user": {
      "displayName": "Diyunugalage Jayarathne",
      "userId": "15438553946356312140"
     },
     "user_tz": 300
    },
    "id": "mcXSqnfoX_jm"
   },
   "outputs": [],
   "source": [
    "#converting training data to numpy arrays\n",
    "X_train = np.array(meta_training_features)\n",
    "y_train = np.array(meta_training_labels)"
   ]
  },
  {
   "cell_type": "code",
   "execution_count": 11,
   "metadata": {
    "colab": {
     "base_uri": "https://localhost:8080/"
    },
    "executionInfo": {
     "elapsed": 1,
     "status": "ok",
     "timestamp": 1677185090586,
     "user": {
      "displayName": "Diyunugalage Jayarathne",
      "userId": "15438553946356312140"
     },
     "user_tz": 300
    },
    "id": "FPxV7d9MYBjq",
    "outputId": "e9205a16-c142-419f-e42f-ef59890c7a0b"
   },
   "outputs": [
    {
     "name": "stdout",
     "output_type": "stream",
     "text": [
      "(1197, 60)\n",
      "(1197,)\n"
     ]
    }
   ],
   "source": [
    "print(X_train.shape)\n",
    "print(y_train.shape)"
   ]
  },
  {
   "cell_type": "code",
   "execution_count": 12,
   "metadata": {
    "executionInfo": {
     "elapsed": 135,
     "status": "ok",
     "timestamp": 1677185091408,
     "user": {
      "displayName": "Diyunugalage Jayarathne",
      "userId": "15438553946356312140"
     },
     "user_tz": 300
    },
    "id": "plpYxMcoYDmC"
   },
   "outputs": [],
   "source": [
    "#converting data into 3D shape\n",
    "\n",
    "X_train = np.reshape(X_train, (X_train.shape[0],X_train.shape[1],1))"
   ]
  },
  {
   "cell_type": "code",
   "execution_count": 13,
   "metadata": {
    "colab": {
     "base_uri": "https://localhost:8080/"
    },
    "executionInfo": {
     "elapsed": 129,
     "status": "ok",
     "timestamp": 1677185092708,
     "user": {
      "displayName": "Diyunugalage Jayarathne",
      "userId": "15438553946356312140"
     },
     "user_tz": 300
    },
    "id": "bvkh-ltNYFwi",
    "outputId": "5b43978d-0ad6-4e60-b83d-ec5aab12eab8"
   },
   "outputs": [
    {
     "name": "stdout",
     "output_type": "stream",
     "text": [
      "(1197, 60, 1)\n"
     ]
    }
   ],
   "source": [
    "print(X_train.shape)"
   ]
  },
  {
   "cell_type": "code",
   "execution_count": 15,
   "metadata": {
    "executionInfo": {
     "elapsed": 2276,
     "status": "ok",
     "timestamp": 1677185096093,
     "user": {
      "displayName": "Diyunugalage Jayarathne",
      "userId": "15438553946356312140"
     },
     "user_tz": 300
    },
    "id": "KfCmoGZNYHhU"
   },
   "outputs": [],
   "source": [
    "import matplotlib.pyplot as plt\n",
    "from tensorflow.keras.layers import Input, Activation, Dense, Flatten, Dropout, Flatten, LSTM\n",
    "from tensorflow.keras.models import Model"
   ]
  },
  {
   "cell_type": "code",
   "execution_count": 16,
   "metadata": {
    "colab": {
     "base_uri": "https://localhost:8080/"
    },
    "executionInfo": {
     "elapsed": 2291,
     "status": "ok",
     "timestamp": 1677185100833,
     "user": {
      "displayName": "Diyunugalage Jayarathne",
      "userId": "15438553946356312140"
     },
     "user_tz": 300
    },
    "id": "kBcPo9QtYJVQ",
    "outputId": "08fc3f9c-d576-40a1-bfb2-7a027bc2489a"
   },
   "outputs": [],
   "source": [
    "#defining the LSTM network\n",
    "\n",
    "input_layer = Input(shape = (X_train.shape[1],1))\n",
    "lstm1 = LSTM(100, activation = 'relu', return_sequences=True)(input_layer) # usage of 'tanh' instead of 'relu' will remove the warning\n",
    "do1 = Dropout(0.2)(lstm1)\n",
    "\n",
    "lstm2 = LSTM(100, activation = 'relu', return_sequences = True)(do1)\n",
    "do2 = Dropout(0.2)(lstm2)\n",
    "\n",
    "lstm3 = LSTM(100, activation = 'relu', return_sequences= True)(do2)\n",
    "do3 = Dropout(0.2)(lstm3)\n",
    "\n",
    "lstm4 = LSTM(100, activation = 'relu')(do3)\n",
    "do4 = Dropout(0.2)(lstm4)\n",
    "\n",
    "output_layer = Dense(1)(do4)\n",
    "\n",
    "model = Model(input_layer, output_layer)\n",
    "model.compile(optimizer ='adam', loss = 'mse')"
   ]
  },
  {
   "cell_type": "code",
   "execution_count": 17,
   "metadata": {
    "colab": {
     "base_uri": "https://localhost:8080/"
    },
    "executionInfo": {
     "elapsed": 128,
     "status": "ok",
     "timestamp": 1677185104381,
     "user": {
      "displayName": "Diyunugalage Jayarathne",
      "userId": "15438553946356312140"
     },
     "user_tz": 300
    },
    "id": "TXJ7Eq6OfAYT",
    "outputId": "bb6629f4-6dc4-494b-9203-3238cd7fc7a5"
   },
   "outputs": [
    {
     "name": "stdout",
     "output_type": "stream",
     "text": [
      "(1197, 60, 1)\n",
      "(1197,)\n",
      "(1197, 1)\n"
     ]
    }
   ],
   "source": [
    "print(X_train.shape)\n",
    "print(y_train.shape)\n",
    "y_train = y_train.reshape(-1,1)\n",
    "print(y_train.shape)"
   ]
  },
  {
   "cell_type": "code",
   "execution_count": 18,
   "metadata": {
    "colab": {
     "base_uri": "https://localhost:8080/"
    },
    "executionInfo": {
     "elapsed": 1827734,
     "status": "ok",
     "timestamp": 1677186939825,
     "user": {
      "displayName": "Diyunugalage Jayarathne",
      "userId": "15438553946356312140"
     },
     "user_tz": 300
    },
    "id": "_o5D6zDcf2r5",
    "outputId": "123ace39-4d43-4ad2-a590-5f6a1951c249"
   },
   "outputs": [
    {
     "name": "stdout",
     "output_type": "stream",
     "text": [
      "Epoch 1/100\n",
      "38/38 [==============================] - 8s 131ms/step - loss: 0.0853\n",
      "Epoch 2/100\n",
      "38/38 [==============================] - 5s 132ms/step - loss: 0.0085\n",
      "Epoch 3/100\n",
      "38/38 [==============================] - 5s 134ms/step - loss: 0.0071\n",
      "Epoch 4/100\n",
      "38/38 [==============================] - 5s 133ms/step - loss: 0.0068\n",
      "Epoch 5/100\n",
      "38/38 [==============================] - 5s 134ms/step - loss: 0.0066\n",
      "Epoch 6/100\n",
      "38/38 [==============================] - 5s 133ms/step - loss: 0.0070\n",
      "Epoch 7/100\n",
      "38/38 [==============================] - 5s 133ms/step - loss: 0.0058\n",
      "Epoch 8/100\n",
      "38/38 [==============================] - 5s 133ms/step - loss: 0.0051\n",
      "Epoch 9/100\n",
      "38/38 [==============================] - 5s 133ms/step - loss: 0.0051\n",
      "Epoch 10/100\n",
      "38/38 [==============================] - 5s 135ms/step - loss: 0.0054\n",
      "Epoch 11/100\n",
      "38/38 [==============================] - 5s 137ms/step - loss: 0.0052\n",
      "Epoch 12/100\n",
      "38/38 [==============================] - 5s 138ms/step - loss: 0.0054\n",
      "Epoch 13/100\n",
      "38/38 [==============================] - 5s 137ms/step - loss: 0.0046\n",
      "Epoch 14/100\n",
      "38/38 [==============================] - 5s 136ms/step - loss: 0.0051\n",
      "Epoch 15/100\n",
      "38/38 [==============================] - 5s 136ms/step - loss: 0.0041\n",
      "Epoch 16/100\n",
      "38/38 [==============================] - 5s 142ms/step - loss: 0.0043\n",
      "Epoch 17/100\n",
      "38/38 [==============================] - 6s 161ms/step - loss: 0.0048\n",
      "Epoch 18/100\n",
      "38/38 [==============================] - 6s 148ms/step - loss: 0.0055\n",
      "Epoch 19/100\n",
      "38/38 [==============================] - 6s 150ms/step - loss: 0.0043\n",
      "Epoch 20/100\n",
      "38/38 [==============================] - 6s 151ms/step - loss: 0.0043\n",
      "Epoch 21/100\n",
      "38/38 [==============================] - 6s 160ms/step - loss: 0.0040\n",
      "Epoch 22/100\n",
      "38/38 [==============================] - 7s 171ms/step - loss: 0.0044\n",
      "Epoch 23/100\n",
      "38/38 [==============================] - 6s 158ms/step - loss: 0.0040\n",
      "Epoch 24/100\n",
      "38/38 [==============================] - 6s 164ms/step - loss: 0.0041\n",
      "Epoch 25/100\n",
      "38/38 [==============================] - 7s 184ms/step - loss: 0.0041\n",
      "Epoch 26/100\n",
      "38/38 [==============================] - 7s 182ms/step - loss: 0.0038\n",
      "Epoch 27/100\n",
      "38/38 [==============================] - 8s 198ms/step - loss: 0.0036\n",
      "Epoch 28/100\n",
      "38/38 [==============================] - 7s 187ms/step - loss: 0.0037\n",
      "Epoch 29/100\n",
      "38/38 [==============================] - 7s 179ms/step - loss: 0.0038\n",
      "Epoch 30/100\n",
      "38/38 [==============================] - 7s 171ms/step - loss: 0.0040\n",
      "Epoch 31/100\n",
      "38/38 [==============================] - 6s 164ms/step - loss: 0.0039\n",
      "Epoch 32/100\n",
      "38/38 [==============================] - 6s 159ms/step - loss: 0.0037\n",
      "Epoch 33/100\n",
      "38/38 [==============================] - 6s 154ms/step - loss: 0.0034\n",
      "Epoch 34/100\n",
      "38/38 [==============================] - 6s 150ms/step - loss: 0.0036\n",
      "Epoch 35/100\n",
      "38/38 [==============================] - 6s 153ms/step - loss: 0.0034\n",
      "Epoch 36/100\n",
      "38/38 [==============================] - 6s 157ms/step - loss: 0.0032\n",
      "Epoch 37/100\n",
      "38/38 [==============================] - 6s 162ms/step - loss: 0.0034\n",
      "Epoch 38/100\n",
      "38/38 [==============================] - 7s 171ms/step - loss: 0.0040\n",
      "Epoch 39/100\n",
      "38/38 [==============================] - 7s 184ms/step - loss: 0.0035\n",
      "Epoch 40/100\n",
      "38/38 [==============================] - 7s 178ms/step - loss: 0.0035\n",
      "Epoch 41/100\n",
      "38/38 [==============================] - 7s 174ms/step - loss: 0.0035\n",
      "Epoch 42/100\n",
      "38/38 [==============================] - 7s 178ms/step - loss: 0.0034\n",
      "Epoch 43/100\n",
      "38/38 [==============================] - 7s 172ms/step - loss: 0.0035\n",
      "Epoch 44/100\n",
      "38/38 [==============================] - 6s 170ms/step - loss: 0.0032\n",
      "Epoch 45/100\n",
      "38/38 [==============================] - 6s 164ms/step - loss: 0.0029\n",
      "Epoch 46/100\n",
      "38/38 [==============================] - 6s 168ms/step - loss: 0.0029\n",
      "Epoch 47/100\n",
      "38/38 [==============================] - 7s 173ms/step - loss: 0.0034\n",
      "Epoch 48/100\n",
      "38/38 [==============================] - 7s 188ms/step - loss: 0.0029\n",
      "Epoch 49/100\n",
      "38/38 [==============================] - 7s 179ms/step - loss: 0.0028\n",
      "Epoch 50/100\n",
      "38/38 [==============================] - 6s 156ms/step - loss: 0.0027\n",
      "Epoch 51/100\n",
      "38/38 [==============================] - 6s 156ms/step - loss: 0.0028\n",
      "Epoch 52/100\n",
      "38/38 [==============================] - 7s 183ms/step - loss: 0.0029\n",
      "Epoch 53/100\n",
      "38/38 [==============================] - 6s 170ms/step - loss: 0.0030\n",
      "Epoch 54/100\n",
      "38/38 [==============================] - 7s 175ms/step - loss: 0.0028\n",
      "Epoch 55/100\n",
      "38/38 [==============================] - 7s 193ms/step - loss: 0.0025\n",
      "Epoch 56/100\n",
      "38/38 [==============================] - 7s 195ms/step - loss: 0.0025\n",
      "Epoch 57/100\n",
      "38/38 [==============================] - 8s 212ms/step - loss: 0.0026\n",
      "Epoch 58/100\n",
      "38/38 [==============================] - 8s 219ms/step - loss: 0.0026\n",
      "Epoch 59/100\n",
      "38/38 [==============================] - 9s 244ms/step - loss: 0.0025\n",
      "Epoch 60/100\n",
      "38/38 [==============================] - 9s 233ms/step - loss: 0.0028\n",
      "Epoch 61/100\n",
      "38/38 [==============================] - 8s 210ms/step - loss: 0.0025\n",
      "Epoch 62/100\n",
      "38/38 [==============================] - 7s 195ms/step - loss: 0.0026\n",
      "Epoch 63/100\n",
      "38/38 [==============================] - 7s 183ms/step - loss: 0.0021\n",
      "Epoch 64/100\n",
      "38/38 [==============================] - 7s 185ms/step - loss: 0.0028\n",
      "Epoch 65/100\n",
      "38/38 [==============================] - 7s 172ms/step - loss: 0.0023\n",
      "Epoch 66/100\n",
      "38/38 [==============================] - 6s 166ms/step - loss: 0.0025\n",
      "Epoch 67/100\n",
      "38/38 [==============================] - 6s 163ms/step - loss: 0.0022\n",
      "Epoch 68/100\n",
      "38/38 [==============================] - 6s 156ms/step - loss: 0.0024\n",
      "Epoch 69/100\n",
      "38/38 [==============================] - 6s 159ms/step - loss: 0.0021\n",
      "Epoch 70/100\n",
      "38/38 [==============================] - 6s 165ms/step - loss: 0.0022\n",
      "Epoch 71/100\n",
      "38/38 [==============================] - 7s 172ms/step - loss: 0.0022\n",
      "Epoch 72/100\n",
      "38/38 [==============================] - 8s 204ms/step - loss: 0.0023\n",
      "Epoch 73/100\n",
      "38/38 [==============================] - 12s 312ms/step - loss: 0.0025\n",
      "Epoch 74/100\n",
      "38/38 [==============================] - 10s 247ms/step - loss: 0.0022\n",
      "Epoch 75/100\n",
      "38/38 [==============================] - 8s 217ms/step - loss: 0.0020\n",
      "Epoch 76/100\n",
      "38/38 [==============================] - 8s 205ms/step - loss: 0.0021\n",
      "Epoch 77/100\n",
      "38/38 [==============================] - 8s 199ms/step - loss: 0.0019\n",
      "Epoch 78/100\n",
      "38/38 [==============================] - 8s 206ms/step - loss: 0.0020\n",
      "Epoch 79/100\n",
      "38/38 [==============================] - 9s 228ms/step - loss: 0.0020\n",
      "Epoch 80/100\n",
      "38/38 [==============================] - 9s 242ms/step - loss: 0.0022\n",
      "Epoch 81/100\n",
      "38/38 [==============================] - 9s 237ms/step - loss: 0.0021\n",
      "Epoch 82/100\n",
      "38/38 [==============================] - 8s 219ms/step - loss: 0.0018\n",
      "Epoch 83/100\n",
      "38/38 [==============================] - 7s 197ms/step - loss: 0.0021\n",
      "Epoch 84/100\n",
      "38/38 [==============================] - 7s 191ms/step - loss: 0.0022\n",
      "Epoch 85/100\n",
      "38/38 [==============================] - 8s 198ms/step - loss: 0.0018\n",
      "Epoch 86/100\n",
      "38/38 [==============================] - 8s 216ms/step - loss: 0.0020\n",
      "Epoch 87/100\n",
      "38/38 [==============================] - 9s 224ms/step - loss: 0.0021\n",
      "Epoch 88/100\n",
      "38/38 [==============================] - 5s 133ms/step - loss: 0.0020\n",
      "Epoch 89/100\n",
      "38/38 [==============================] - 5s 133ms/step - loss: 0.0019\n",
      "Epoch 90/100\n",
      "38/38 [==============================] - 5s 133ms/step - loss: 0.0021\n",
      "Epoch 91/100\n",
      "38/38 [==============================] - 5s 141ms/step - loss: 0.0019\n",
      "Epoch 92/100\n",
      "38/38 [==============================] - 5s 138ms/step - loss: 0.0019\n",
      "Epoch 93/100\n",
      "38/38 [==============================] - 5s 137ms/step - loss: 0.0018\n",
      "Epoch 94/100\n",
      "38/38 [==============================] - 5s 139ms/step - loss: 0.0019\n",
      "Epoch 95/100\n",
      "38/38 [==============================] - 5s 140ms/step - loss: 0.0021\n",
      "Epoch 96/100\n",
      "38/38 [==============================] - 5s 143ms/step - loss: 0.0017\n",
      "Epoch 97/100\n",
      "38/38 [==============================] - 5s 142ms/step - loss: 0.0019\n",
      "Epoch 98/100\n",
      "38/38 [==============================] - 5s 141ms/step - loss: 0.0020\n",
      "Epoch 99/100\n"
     ]
    },
    {
     "name": "stdout",
     "output_type": "stream",
     "text": [
      "38/38 [==============================] - 5s 140ms/step - loss: 0.0019\n",
      "Epoch 100/100\n",
      "38/38 [==============================] - 5s 143ms/step - loss: 0.0019\n"
     ]
    }
   ],
   "source": [
    "#training the model\n",
    "\n",
    "model_history = model.fit(X_train, y_train, epochs = 100, verbose =1, batch_size = 32)"
   ]
  },
  {
   "cell_type": "code",
   "execution_count": 21,
   "metadata": {
    "colab": {
     "base_uri": "https://localhost:8080/"
    },
    "executionInfo": {
     "elapsed": 130,
     "status": "ok",
     "timestamp": 1677187308557,
     "user": {
      "displayName": "Diyunugalage Jayarathne",
      "userId": "15438553946356312140"
     },
     "user_tz": 300
    },
    "id": "xUWAaHPDDLZK",
    "outputId": "b0e77cb2-938f-48df-ed80-8400eeaf303a"
   },
   "outputs": [
    {
     "name": "stdout",
     "output_type": "stream",
     "text": [
      "(1197, 60, 1)\n",
      "(1197, 1)\n"
     ]
    }
   ],
   "source": [
    "print(X_train.shape)\n",
    "print(y_train.shape)"
   ]
  },
  {
   "cell_type": "code",
   "execution_count": 22,
   "metadata": {
    "executionInfo": {
     "elapsed": 127,
     "status": "ok",
     "timestamp": 1677187310703,
     "user": {
      "displayName": "Diyunugalage Jayarathne",
      "userId": "15438553946356312140"
     },
     "user_tz": 300
    },
    "id": "6A28_xdkgQR4"
   },
   "outputs": [],
   "source": [
    "# creating test set\n",
    "\n",
    "meta_testing_complete_data = pd.read_csv('META_test.csv')\n",
    "meta_testing_processed = meta_testing_complete_data[['Open']].values"
   ]
  },
  {
   "cell_type": "code",
   "execution_count": 23,
   "metadata": {
    "executionInfo": {
     "elapsed": 130,
     "status": "ok",
     "timestamp": 1677187312721,
     "user": {
      "displayName": "Diyunugalage Jayarathne",
      "userId": "15438553946356312140"
     },
     "user_tz": 300
    },
    "id": "_nPgbFN4q7tp"
   },
   "outputs": [],
   "source": [
    "meta_all_data = pd.concat((meta_complete_data['Open'], meta_testing_complete_data['Open']), axis = 0)"
   ]
  },
  {
   "cell_type": "code",
   "execution_count": 25,
   "metadata": {
    "colab": {
     "base_uri": "https://localhost:8080/"
    },
    "executionInfo": {
     "elapsed": 149,
     "status": "ok",
     "timestamp": 1677187314655,
     "user": {
      "displayName": "Diyunugalage Jayarathne",
      "userId": "15438553946356312140"
     },
     "user_tz": 300
    },
    "id": "MwbZ19UCrmEx",
    "outputId": "24632455-b43e-4e0b-85d1-957261228dff"
   },
   "outputs": [
    {
     "name": "stdout",
     "output_type": "stream",
     "text": [
      "(80,)\n"
     ]
    },
    {
     "name": "stderr",
     "output_type": "stream",
     "text": [
      "C:\\Users\\neran\\AppData\\Local\\Temp\\ipykernel_6808\\534088085.py:1: FutureWarning: The behavior of `series[i:j]` with an integer-dtype index is deprecated. In a future version, this will be treated as *label-based* indexing, consistent with e.g. `series[i]` lookups. To retain the old behavior, use `series.iloc[i:j]`. To get the future behavior, use `series.loc[i:j]`.\n",
      "  test_inputs = meta_all_data[len(meta_all_data) - len(meta_testing_complete_data) - 60:].values\n"
     ]
    }
   ],
   "source": [
    "test_inputs = meta_all_data[len(meta_all_data) - len(meta_testing_complete_data) - 60:].values\n",
    "print(test_inputs.shape)"
   ]
  },
  {
   "cell_type": "code",
   "execution_count": 26,
   "metadata": {
    "colab": {
     "base_uri": "https://localhost:8080/"
    },
    "executionInfo": {
     "elapsed": 187,
     "status": "ok",
     "timestamp": 1677187316069,
     "user": {
      "displayName": "Diyunugalage Jayarathne",
      "userId": "15438553946356312140"
     },
     "user_tz": 300
    },
    "id": "77HOL3amr0_C",
    "outputId": "010eb99c-f831-47ed-fe7b-7d65ccccc86f"
   },
   "outputs": [
    {
     "name": "stdout",
     "output_type": "stream",
     "text": [
      "(80, 1)\n"
     ]
    }
   ],
   "source": [
    "test_inputs = test_inputs.reshape(-1,1)\n",
    "test_inputs = scaler.transform(test_inputs)\n",
    "print(test_inputs.shape)"
   ]
  },
  {
   "cell_type": "code",
   "execution_count": 27,
   "metadata": {
    "executionInfo": {
     "elapsed": 242,
     "status": "ok",
     "timestamp": 1677187318414,
     "user": {
      "displayName": "Diyunugalage Jayarathne",
      "userId": "15438553946356312140"
     },
     "user_tz": 300
    },
    "id": "8_bzADClsaTO"
   },
   "outputs": [],
   "source": [
    "meta_test_features = []\n",
    "for i in range(60,80):\n",
    "  meta_test_features.append(test_inputs[i-60:i,0])"
   ]
  },
  {
   "cell_type": "code",
   "execution_count": 28,
   "metadata": {
    "colab": {
     "base_uri": "https://localhost:8080/"
    },
    "executionInfo": {
     "elapsed": 234,
     "status": "ok",
     "timestamp": 1677187320664,
     "user": {
      "displayName": "Diyunugalage Jayarathne",
      "userId": "15438553946356312140"
     },
     "user_tz": 300
    },
    "id": "XuCfqW2ZtJEV",
    "outputId": "dbd5f3a6-e4c0-4bc2-ea8d-8703d473d735"
   },
   "outputs": [
    {
     "name": "stdout",
     "output_type": "stream",
     "text": [
      "(20, 60)\n"
     ]
    }
   ],
   "source": [
    "X_test = np.array(meta_test_features)\n",
    "print(X_test.shape)"
   ]
  },
  {
   "cell_type": "code",
   "execution_count": 29,
   "metadata": {
    "colab": {
     "base_uri": "https://localhost:8080/"
    },
    "executionInfo": {
     "elapsed": 196,
     "status": "ok",
     "timestamp": 1677187322320,
     "user": {
      "displayName": "Diyunugalage Jayarathne",
      "userId": "15438553946356312140"
     },
     "user_tz": 300
    },
    "id": "3rtMh5sctRek",
    "outputId": "2ed7ffc7-c0d8-4be5-ec83-12687a6ee934"
   },
   "outputs": [
    {
     "name": "stdout",
     "output_type": "stream",
     "text": [
      "(20, 60, 1)\n"
     ]
    }
   ],
   "source": [
    "X_test = np.reshape(X_test, (X_test.shape[0], X_test.shape[1],1))\n",
    "print(X_test.shape)"
   ]
  },
  {
   "cell_type": "code",
   "execution_count": 30,
   "metadata": {
    "colab": {
     "base_uri": "https://localhost:8080/"
    },
    "executionInfo": {
     "elapsed": 684,
     "status": "ok",
     "timestamp": 1677187328204,
     "user": {
      "displayName": "Diyunugalage Jayarathne",
      "userId": "15438553946356312140"
     },
     "user_tz": 300
    },
    "id": "hlryhIyGtr8w",
    "outputId": "00f9a0f8-0e1e-4e14-cc04-0ad554757c2c"
   },
   "outputs": [
    {
     "name": "stdout",
     "output_type": "stream",
     "text": [
      "1/1 [==============================] - 1s 512ms/step\n"
     ]
    }
   ],
   "source": [
    "y_pred = model.predict(X_test)"
   ]
  },
  {
   "cell_type": "code",
   "execution_count": 31,
   "metadata": {
    "colab": {
     "base_uri": "https://localhost:8080/"
    },
    "executionInfo": {
     "elapsed": 132,
     "status": "ok",
     "timestamp": 1677187329840,
     "user": {
      "displayName": "Diyunugalage Jayarathne",
      "userId": "15438553946356312140"
     },
     "user_tz": 300
    },
    "id": "eEP-D2j4xI6S",
    "outputId": "eee02e6e-e6b1-48c4-b30f-bb2327ea7673"
   },
   "outputs": [
    {
     "name": "stdout",
     "output_type": "stream",
     "text": [
      "(20, 1)\n"
     ]
    }
   ],
   "source": [
    "print(y_pred.shape)"
   ]
  },
  {
   "cell_type": "code",
   "execution_count": 32,
   "metadata": {
    "colab": {
     "base_uri": "https://localhost:8080/"
    },
    "executionInfo": {
     "elapsed": 136,
     "status": "ok",
     "timestamp": 1677187331923,
     "user": {
      "displayName": "Diyunugalage Jayarathne",
      "userId": "15438553946356312140"
     },
     "user_tz": 300
    },
    "id": "PTN5eyiuyVSo",
    "outputId": "0a11e960-9e00-44ab-c46a-4fde478b4d2a"
   },
   "outputs": [
    {
     "name": "stdout",
     "output_type": "stream",
     "text": [
      "[[0.92975247]\n",
      " [0.93025863]\n",
      " [0.9286214 ]\n",
      " [0.9264994 ]\n",
      " [0.9314176 ]\n",
      " [0.9381767 ]\n",
      " [0.94734734]\n",
      " [0.95798016]\n",
      " [0.96846664]\n",
      " [0.97820926]\n",
      " [0.9857021 ]\n",
      " [0.9917064 ]\n",
      " [0.9959856 ]\n",
      " [0.9988099 ]\n",
      " [1.0006405 ]\n",
      " [1.0005585 ]\n",
      " [0.99961424]\n",
      " [0.9814428 ]\n",
      " [0.9744028 ]\n",
      " [0.979223  ]]\n"
     ]
    }
   ],
   "source": [
    "print(y_pred)"
   ]
  },
  {
   "cell_type": "code",
   "execution_count": 33,
   "metadata": {
    "executionInfo": {
     "elapsed": 135,
     "status": "ok",
     "timestamp": 1677187333830,
     "user": {
      "displayName": "Diyunugalage Jayarathne",
      "userId": "15438553946356312140"
     },
     "user_tz": 300
    },
    "id": "kbrsY_M2uVIJ"
   },
   "outputs": [],
   "source": [
    "y_hat = scaler.inverse_transform(y_pred)"
   ]
  },
  {
   "cell_type": "code",
   "execution_count": 34,
   "metadata": {
    "colab": {
     "base_uri": "https://localhost:8080/"
    },
    "executionInfo": {
     "elapsed": 144,
     "status": "ok",
     "timestamp": 1677187334798,
     "user": {
      "displayName": "Diyunugalage Jayarathne",
      "userId": "15438553946356312140"
     },
     "user_tz": 300
    },
    "id": "Z7_u19LmwsYF",
    "outputId": "c9726dc4-e79e-4ee1-816f-c04c44b98547"
   },
   "outputs": [
    {
     "name": "stdout",
     "output_type": "stream",
     "text": [
      "(20, 1)\n"
     ]
    }
   ],
   "source": [
    "print(y_hat.shape)"
   ]
  },
  {
   "cell_type": "code",
   "execution_count": 35,
   "metadata": {
    "colab": {
     "base_uri": "https://localhost:8080/",
     "height": 404
    },
    "executionInfo": {
     "elapsed": 411,
     "status": "ok",
     "timestamp": 1677187336335,
     "user": {
      "displayName": "Diyunugalage Jayarathne",
      "userId": "15438553946356312140"
     },
     "user_tz": 300
    },
    "id": "TfrlHOGeuc48",
    "outputId": "9195a780-6784-44e4-fb7f-504328484cc1"
   },
   "outputs": [
    {
     "data": {
      "image/png": "[encoded data removed]",
      "text/plain": [
       "<Figure size 800x600 with 1 Axes>"
      ]
     },
     "metadata": {},
     "output_type": "display_data"
    }
   ],
   "source": [
    "# plotting original and predicted stock values\n",
    "\n",
    "plt.figure(figsize = (8,6))\n",
    "plt.plot(meta_testing_processed, color = 'red', label = 'Actual Meta Stock Price')\n",
    "plt.plot(y_hat, color = 'green', label = 'Predicted Meta Stock Price')\n",
    "plt.title('Facebook Stock Prices')\n",
    "plt.xlabel('Date')\n",
    "plt.ylabel('Stock Price')\n",
    "plt.legend()\n",
    "plt.show()"
   ]
  },
  {
   "cell_type": "code",
   "execution_count": null,
   "metadata": {
    "id": "o6f6hqMRJ8WN"
   },
   "outputs": [],
   "source": []
  }
 ],
 "metadata": {
  "accelerator": "GPU",
  "colab": {
   "authorship_tag": "ABX9TyMGnQDC0ZfUBS5jRY7fEPK+",
   "provenance": []
  },
  "gpuClass": "standard",
  "kernelspec": {
   "display_name": "Python 3 (ipykernel)",
   "language": "python",
   "name": "python3"
  },
  "language_info": {
   "codemirror_mode": {
    "name": "ipython",
    "version": 3
   },
   "file_extension": ".py",
   "mimetype": "text/x-python",
   "name": "python",
   "nbconvert_exporter": "python",
   "pygments_lexer": "ipython3",
   "version": "3.10.9"
  }
 },
 "nbformat": 4,
 "nbformat_minor": 1
}
