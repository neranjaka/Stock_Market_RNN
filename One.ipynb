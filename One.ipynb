{
 "cells": [
  {
   "cell_type": "code",
   "execution_count": 1,
   "id": "a98d4d5e",
   "metadata": {},
   "outputs": [],
   "source": [
    "#importing libraries\n",
    "\n",
    "import pandas as pd\n",
    "import numpy as np"
   ]
  },
  {
   "cell_type": "code",
   "execution_count": 2,
   "id": "5ec072e0",
   "metadata": {},
   "outputs": [],
   "source": [
    "#importing dataset\n",
    "\n",
    "meta_complete_data = pd.read_csv('META.csv')"
   ]
  },
  {
   "cell_type": "code",
   "execution_count": 3,
   "id": "d1562a3e",
   "metadata": {},
   "outputs": [
    {
     "data": {
      "text/html": [
       "<div>\n",
       "<style scoped>\n",
       "    .dataframe tbody tr th:only-of-type {\n",
       "        vertical-align: middle;\n",
       "    }\n",
       "\n",
       "    .dataframe tbody tr th {\n",
       "        vertical-align: top;\n",
       "    }\n",
       "\n",
       "    .dataframe thead th {\n",
       "        text-align: right;\n",
       "    }\n",
       "</style>\n",
       "<table border=\"1\" class=\"dataframe\">\n",
       "  <thead>\n",
       "    <tr style=\"text-align: right;\">\n",
       "      <th></th>\n",
       "      <th>Date</th>\n",
       "      <th>Open</th>\n",
       "      <th>High</th>\n",
       "      <th>Low</th>\n",
       "      <th>Close</th>\n",
       "      <th>Adj Close</th>\n",
       "      <th>Volume</th>\n",
       "    </tr>\n",
       "  </thead>\n",
       "  <tbody>\n",
       "    <tr>\n",
       "      <th>0</th>\n",
       "      <td>2015-01-02</td>\n",
       "      <td>78.580002</td>\n",
       "      <td>78.930000</td>\n",
       "      <td>77.699997</td>\n",
       "      <td>78.449997</td>\n",
       "      <td>78.449997</td>\n",
       "      <td>18177500</td>\n",
       "    </tr>\n",
       "    <tr>\n",
       "      <th>1</th>\n",
       "      <td>2015-01-05</td>\n",
       "      <td>77.980003</td>\n",
       "      <td>79.250000</td>\n",
       "      <td>76.860001</td>\n",
       "      <td>77.190002</td>\n",
       "      <td>77.190002</td>\n",
       "      <td>26452200</td>\n",
       "    </tr>\n",
       "    <tr>\n",
       "      <th>2</th>\n",
       "      <td>2015-01-06</td>\n",
       "      <td>77.230003</td>\n",
       "      <td>77.589996</td>\n",
       "      <td>75.360001</td>\n",
       "      <td>76.150002</td>\n",
       "      <td>76.150002</td>\n",
       "      <td>27399300</td>\n",
       "    </tr>\n",
       "    <tr>\n",
       "      <th>3</th>\n",
       "      <td>2015-01-07</td>\n",
       "      <td>76.760002</td>\n",
       "      <td>77.360001</td>\n",
       "      <td>75.820000</td>\n",
       "      <td>76.150002</td>\n",
       "      <td>76.150002</td>\n",
       "      <td>22045300</td>\n",
       "    </tr>\n",
       "    <tr>\n",
       "      <th>4</th>\n",
       "      <td>2015-01-08</td>\n",
       "      <td>76.739998</td>\n",
       "      <td>78.230003</td>\n",
       "      <td>76.080002</td>\n",
       "      <td>78.180000</td>\n",
       "      <td>78.180000</td>\n",
       "      <td>23961000</td>\n",
       "    </tr>\n",
       "  </tbody>\n",
       "</table>\n",
       "</div>"
      ],
      "text/plain": [
       "         Date       Open       High        Low      Close  Adj Close    Volume\n",
       "0  2015-01-02  78.580002  78.930000  77.699997  78.449997  78.449997  18177500\n",
       "1  2015-01-05  77.980003  79.250000  76.860001  77.190002  77.190002  26452200\n",
       "2  2015-01-06  77.230003  77.589996  75.360001  76.150002  76.150002  27399300\n",
       "3  2015-01-07  76.760002  77.360001  75.820000  76.150002  76.150002  22045300\n",
       "4  2015-01-08  76.739998  78.230003  76.080002  78.180000  78.180000  23961000"
      ]
     },
     "execution_count": 3,
     "metadata": {},
     "output_type": "execute_result"
    }
   ],
   "source": [
    "meta_complete_data.head()"
   ]
  },
  {
   "cell_type": "code",
   "execution_count": 4,
   "id": "10ffa97a",
   "metadata": {},
   "outputs": [],
   "source": [
    "meta_training_processed = meta_complete_data[['Open']].values"
   ]
  },
  {
   "cell_type": "code",
   "execution_count": 5,
   "id": "8f7d9ca8",
   "metadata": {},
   "outputs": [],
   "source": [
    "#scaling features\n",
    "\n",
    "from sklearn.preprocessing import MinMaxScaler\n",
    "scaler = MinMaxScaler(feature_range = (0,1))\n",
    "\n",
    "meta_training_scaled = scaler.fit_transform(meta_training_processed)"
   ]
  },
  {
   "cell_type": "code",
   "execution_count": 6,
   "id": "a2ae34c3",
   "metadata": {},
   "outputs": [
    {
     "data": {
      "text/plain": [
       "1257"
      ]
     },
     "execution_count": 6,
     "metadata": {},
     "output_type": "execute_result"
    }
   ],
   "source": [
    "len(meta_training_scaled)"
   ]
  },
  {
   "cell_type": "code",
   "execution_count": 9,
   "id": "68b36751",
   "metadata": {},
   "outputs": [],
   "source": [
    "#training features contained data of last 60 days\n",
    "#training labels contain data of the 1st day\n",
    "\n",
    "meta_training_features = []\n",
    "meta_training_labels = []\n",
    "\n",
    "for i in range(60, len(meta_training_scaled)):\n",
    "    meta_training_features.append(meta_training_scaled[i - 60:i,0])\n",
    "    meta_training_labels.append(meta_training_scaled[i,0])"
   ]
  },
  {
   "cell_type": "code",
   "execution_count": 10,
   "id": "d72a8184",
   "metadata": {},
   "outputs": [],
   "source": [
    "#converting training data to numpy arrays\n",
    "X_train = np.array(meta_training_features)\n",
    "y_train = np.array(meta_training_labels)"
   ]
  },
  {
   "cell_type": "code",
   "execution_count": 11,
   "id": "0c5923dc",
   "metadata": {},
   "outputs": [
    {
     "name": "stdout",
     "output_type": "stream",
     "text": [
      "(1197, 60)\n",
      "(1197,)\n"
     ]
    }
   ],
   "source": [
    "print(X_train.shape)\n",
    "print(y_train.shape)"
   ]
  },
  {
   "cell_type": "code",
   "execution_count": 12,
   "id": "97d1e345",
   "metadata": {},
   "outputs": [],
   "source": [
    "#converting data into 3D shape\n",
    "\n",
    "X_train = np.reshape(X_train, (X_train.shape[0],X_train.shape[1],1))"
   ]
  },
  {
   "cell_type": "code",
   "execution_count": 13,
   "id": "d3193ee7",
   "metadata": {},
   "outputs": [
    {
     "name": "stdout",
     "output_type": "stream",
     "text": [
      "(1197, 60, 1)\n"
     ]
    }
   ],
   "source": [
    "print(X_train.shape)"
   ]
  },
  {
   "cell_type": "code",
   "execution_count": 14,
   "id": "3010cb66",
   "metadata": {},
   "outputs": [
    {
     "ename": "ModuleNotFoundError",
     "evalue": "No module named 'tensorflow'",
     "output_type": "error",
     "traceback": [
      "\u001b[1;31m---------------------------------------------------------------------------\u001b[0m",
      "\u001b[1;31mModuleNotFoundError\u001b[0m                       Traceback (most recent call last)",
      "\u001b[1;32m~\\AppData\\Local\\Temp/ipykernel_5952/786594188.py\u001b[0m in \u001b[0;36m<module>\u001b[1;34m\u001b[0m\n\u001b[0;32m      1\u001b[0m \u001b[1;32mimport\u001b[0m \u001b[0mmatplotlib\u001b[0m\u001b[1;33m.\u001b[0m\u001b[0mpyplot\u001b[0m \u001b[1;32mas\u001b[0m \u001b[0mplt\u001b[0m\u001b[1;33m\u001b[0m\u001b[1;33m\u001b[0m\u001b[0m\n\u001b[1;32m----> 2\u001b[1;33m \u001b[1;32mfrom\u001b[0m \u001b[0mtensorflow\u001b[0m\u001b[1;33m.\u001b[0m\u001b[0mkeras\u001b[0m\u001b[1;33m.\u001b[0m\u001b[0mlayers\u001b[0m \u001b[1;32mimport\u001b[0m \u001b[0mInput\u001b[0m\u001b[1;33m,\u001b[0m \u001b[0mActivation\u001b[0m\u001b[1;33m,\u001b[0m \u001b[0mDense\u001b[0m\u001b[1;33m,\u001b[0m \u001b[0mFlatten\u001b[0m\u001b[1;33m,\u001b[0m \u001b[0mDropout\u001b[0m\u001b[1;33m,\u001b[0m \u001b[0mFlatten\u001b[0m\u001b[1;33m,\u001b[0m \u001b[0mLSTM\u001b[0m\u001b[1;33m\u001b[0m\u001b[1;33m\u001b[0m\u001b[0m\n\u001b[0m\u001b[0;32m      3\u001b[0m \u001b[1;32mfrom\u001b[0m \u001b[0mtensroflow\u001b[0m\u001b[1;33m.\u001b[0m\u001b[0mkeras\u001b[0m\u001b[1;33m.\u001b[0m\u001b[0mmodels\u001b[0m \u001b[1;32mimport\u001b[0m \u001b[0mModel\u001b[0m\u001b[1;33m\u001b[0m\u001b[1;33m\u001b[0m\u001b[0m\n",
      "\u001b[1;31mModuleNotFoundError\u001b[0m: No module named 'tensorflow'"
     ]
    }
   ],
   "source": [
    "import matplotlib.pyplot as plt\n",
    "from tensorflow.keras.layers import Input, Activation, Dense, Flatten, Dropout, Flatten, LSTM\n",
    "from tensroflow.keras.models import Model"
   ]
  },
  {
   "cell_type": "code",
   "execution_count": 15,
   "id": "5971ba23",
   "metadata": {},
   "outputs": [
    {
     "ename": "ModuleNotFoundError",
     "evalue": "No module named 'tensroflow'",
     "output_type": "error",
     "traceback": [
      "\u001b[1;31m---------------------------------------------------------------------------\u001b[0m",
      "\u001b[1;31mModuleNotFoundError\u001b[0m                       Traceback (most recent call last)",
      "\u001b[1;32m~\\AppData\\Local\\Temp/ipykernel_5952/1507596165.py\u001b[0m in \u001b[0;36m<module>\u001b[1;34m\u001b[0m\n\u001b[1;32m----> 1\u001b[1;33m \u001b[1;32mimport\u001b[0m \u001b[0mtensroflow\u001b[0m \u001b[1;32mas\u001b[0m \u001b[0mtf\u001b[0m\u001b[1;33m\u001b[0m\u001b[1;33m\u001b[0m\u001b[0m\n\u001b[0m",
      "\u001b[1;31mModuleNotFoundError\u001b[0m: No module named 'tensroflow'"
     ]
    }
   ],
   "source": [
    "import tensroflow as tf"
   ]
  },
  {
   "cell_type": "code",
   "execution_count": null,
   "id": "271e79d0",
   "metadata": {},
   "outputs": [],
   "source": []
  }
 ],
 "metadata": {
  "kernelspec": {
   "display_name": "Python 3 (ipykernel)",
   "language": "python",
   "name": "python3"
  },
  "language_info": {
   "codemirror_mode": {
    "name": "ipython",
    "version": 3
   },
   "file_extension": ".py",
   "mimetype": "text/x-python",
   "name": "python",
   "nbconvert_exporter": "python",
   "pygments_lexer": "ipython3",
   "version": "3.9.7"
  }
 },
 "nbformat": 4,
 "nbformat_minor": 5
}
